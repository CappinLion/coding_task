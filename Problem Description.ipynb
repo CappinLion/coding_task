{
 "cells": [
  {
   "cell_type": "markdown",
   "id": "d9c1329b-6b13-4a74-9dcf-d7250cd00129",
   "metadata": {},
   "source": [
    "# Problem Description\n",
    "Catapult Inc. is one of the leading pharma companies in the world. Their biggest clinical success over the last decade is due to docstar1000 which is an experimental spray aimed at quick healing of achilees heel. It was released in Austria, Canada, Germany, France, India, japan, USA and UK. A key ingredient to the production of this drug is the chemical \"cycloxyflovin\". The sprays are produced in the individual markets however, the chemical cycloxyflovin is manufactured in the company headquarters in Phoenix, USA and sourced to individual markets. The chemical cycloxyflovin is sourced to three different manufacturing centers in each of these countries periodically and each spray contains 1 unit (5mg) of cycloxyflovin\n",
    "\n",
    "Catapult. Inc is planning the production process for the chemical cycloxyflovin for the upcoming cycle. Catapult.Inc has given us regionl demand estimates and global Sales for the past period. Now, given these demand estimates and global sales of the past period, we need to build a demand prediction model for the global sales of docstar1000\n",
    "\n",
    "Additionally, Due to trade marketing regulation changes that took place over the last few years in the regions of Austria, Canada, Germany, France, India, japan and USA, the HQ at phoenix estimates that the demands of the spray docstar1000 were higher than what is reported in the dataset. For this purpose, they have given us a dataset that contains scaling factor that must be applied to the demand of the countries' respective production centres \n",
    "\n",
    "# Data\n",
    "\n",
    "You are given 2 datasets, one with estimated demand at the 3 production centres in each country and the total predicted demand. The second dataset contains the scaling factor per each country.\n",
    "\n",
    "### Data Set 1\n",
    "The data consists of 25 columns. The 8 countries and demand estimates of each of the processing centres in these countries and a seasonal scaling factor (Pharmacies in these regions tend to have periodic buying cycles. Additionally, achilees heel injury being predominantly sport induced, the pharmacies expect a surge in demand in certain times of the year more than the other)\n",
    "\n",
    "    \n",
    "### Data Set 2\n",
    "\n",
    "Scaling factor to be applied to the countries\n",
    "    \n",
    "# Technical Environment\n",
    "* Python\n",
    "* numpy\n",
    "* pandas\n",
    "* scikit-learn\n",
    "* matplotlib / searborn / altair / plotly\n",
    "\n",
    "# Approach\n",
    "The solution is assessed on the following skills:\n",
    "* A thorough evaluation of the data set using statistical measures and visualization\n",
    "* Elegant Python coding skills\n",
    "* Machine Learning modelling fundamentals\n",
    "* Machine Learning Training\n",
    "* Model Evaluation"
   ]
  }
 ],
 "metadata": {
  "kernelspec": {
   "display_name": "Python 3 (ipykernel)",
   "language": "python",
   "name": "python3"
  },
  "language_info": {
   "codemirror_mode": {
    "name": "ipython",
    "version": 3
   },
   "file_extension": ".py",
   "mimetype": "text/x-python",
   "name": "python",
   "nbconvert_exporter": "python",
   "pygments_lexer": "ipython3",
   "version": "3.9.13"
  }
 },
 "nbformat": 4,
 "nbformat_minor": 5
}
